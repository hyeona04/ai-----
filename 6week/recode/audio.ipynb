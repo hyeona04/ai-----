{
 "cells": [
  {
   "cell_type": "code",
   "execution_count": 8,
   "metadata": {},
   "outputs": [
    {
     "name": "stdout",
     "output_type": "stream",
     "text": [
      "Sample Rate: 44100\n",
      "Duration: 178.14349206349206 seconds\n"
     ]
    },
    {
     "ename": "PermissionError",
     "evalue": "[Errno 13] Permission denied: 'C:\\\\Users\\\\gusdk\\\\AppData\\\\Local\\\\Temp\\\\tmp4l3mkt4z.wav'",
     "output_type": "error",
     "traceback": [
      "\u001b[1;31m---------------------------------------------------------------------------\u001b[0m",
      "\u001b[1;31mPermissionError\u001b[0m                           Traceback (most recent call last)",
      "\u001b[1;32mc:\\Github\\ai-programming\\6week\\recode\\audio.ipynb 셀 1\u001b[0m line \u001b[0;36m1\n\u001b[0;32m     <a href='vscode-notebook-cell:/c%3A/Github/ai-programming/6week/recode/audio.ipynb#W0sZmlsZQ%3D%3D?line=15'>16</a>\u001b[0m \u001b[39m# 음성 파일의 일부를 재생\u001b[39;00m\n\u001b[0;32m     <a href='vscode-notebook-cell:/c%3A/Github/ai-programming/6week/recode/audio.ipynb#W0sZmlsZQ%3D%3D?line=16'>17</a>\u001b[0m audio \u001b[39m=\u001b[39m pydub\u001b[39m.\u001b[39mAudioSegment\u001b[39m.\u001b[39mfrom_file(file_path, \u001b[39mformat\u001b[39m\u001b[39m=\u001b[39m\u001b[39m\"\u001b[39m\u001b[39mmp3\u001b[39m\u001b[39m\"\u001b[39m)\n\u001b[1;32m---> <a href='vscode-notebook-cell:/c%3A/Github/ai-programming/6week/recode/audio.ipynb#W0sZmlsZQ%3D%3D?line=17'>18</a>\u001b[0m play(audio)\n",
      "File \u001b[1;32mc:\\Users\\gusdk\\anaconda3\\envs\\audio\\lib\\site-packages\\pydub\\playback.py:71\u001b[0m, in \u001b[0;36mplay\u001b[1;34m(audio_segment)\u001b[0m\n\u001b[0;32m     68\u001b[0m \u001b[39melse\u001b[39;00m:\n\u001b[0;32m     69\u001b[0m     \u001b[39mreturn\u001b[39;00m\n\u001b[1;32m---> 71\u001b[0m _play_with_ffplay(audio_segment)\n",
      "File \u001b[1;32mc:\\Users\\gusdk\\anaconda3\\envs\\audio\\lib\\site-packages\\pydub\\playback.py:15\u001b[0m, in \u001b[0;36m_play_with_ffplay\u001b[1;34m(seg)\u001b[0m\n\u001b[0;32m     13\u001b[0m PLAYER \u001b[39m=\u001b[39m get_player_name()\n\u001b[0;32m     14\u001b[0m \u001b[39mwith\u001b[39;00m NamedTemporaryFile(\u001b[39m\"\u001b[39m\u001b[39mw+b\u001b[39m\u001b[39m\"\u001b[39m, suffix\u001b[39m=\u001b[39m\u001b[39m\"\u001b[39m\u001b[39m.wav\u001b[39m\u001b[39m\"\u001b[39m) \u001b[39mas\u001b[39;00m f:\n\u001b[1;32m---> 15\u001b[0m     seg\u001b[39m.\u001b[39;49mexport(f\u001b[39m.\u001b[39;49mname, \u001b[39m\"\u001b[39;49m\u001b[39mwav\u001b[39;49m\u001b[39m\"\u001b[39;49m)\n\u001b[0;32m     16\u001b[0m     subprocess\u001b[39m.\u001b[39mcall([PLAYER, \u001b[39m\"\u001b[39m\u001b[39m-nodisp\u001b[39m\u001b[39m\"\u001b[39m, \u001b[39m\"\u001b[39m\u001b[39m-autoexit\u001b[39m\u001b[39m\"\u001b[39m, \u001b[39m\"\u001b[39m\u001b[39m-hide_banner\u001b[39m\u001b[39m\"\u001b[39m, f\u001b[39m.\u001b[39mname])\n",
      "File \u001b[1;32mc:\\Users\\gusdk\\anaconda3\\envs\\audio\\lib\\site-packages\\pydub\\audio_segment.py:867\u001b[0m, in \u001b[0;36mAudioSegment.export\u001b[1;34m(self, out_f, format, codec, bitrate, parameters, tags, id3v2_version, cover)\u001b[0m\n\u001b[0;32m    861\u001b[0m \u001b[39mif\u001b[39;00m \u001b[39mformat\u001b[39m \u001b[39m==\u001b[39m \u001b[39m\"\u001b[39m\u001b[39mraw\u001b[39m\u001b[39m\"\u001b[39m \u001b[39mand\u001b[39;00m (codec \u001b[39mis\u001b[39;00m \u001b[39mnot\u001b[39;00m \u001b[39mNone\u001b[39;00m \u001b[39mor\u001b[39;00m parameters \u001b[39mis\u001b[39;00m \u001b[39mnot\u001b[39;00m \u001b[39mNone\u001b[39;00m):\n\u001b[0;32m    862\u001b[0m     \u001b[39mraise\u001b[39;00m \u001b[39mAttributeError\u001b[39;00m(\n\u001b[0;32m    863\u001b[0m             \u001b[39m'\u001b[39m\u001b[39mCan not invoke ffmpeg when export format is \u001b[39m\u001b[39m\"\u001b[39m\u001b[39mraw\u001b[39m\u001b[39m\"\u001b[39m\u001b[39m; \u001b[39m\u001b[39m'\u001b[39m\n\u001b[0;32m    864\u001b[0m             \u001b[39m'\u001b[39m\u001b[39mspecify an ffmpeg raw format like format=\u001b[39m\u001b[39m\"\u001b[39m\u001b[39ms16le\u001b[39m\u001b[39m\"\u001b[39m\u001b[39m instead \u001b[39m\u001b[39m'\u001b[39m\n\u001b[0;32m    865\u001b[0m             \u001b[39m'\u001b[39m\u001b[39mor call export(format=\u001b[39m\u001b[39m\"\u001b[39m\u001b[39mraw\u001b[39m\u001b[39m\"\u001b[39m\u001b[39m) with no codec or parameters\u001b[39m\u001b[39m'\u001b[39m)\n\u001b[1;32m--> 867\u001b[0m out_f, _ \u001b[39m=\u001b[39m _fd_or_path_or_tempfile(out_f, \u001b[39m'\u001b[39;49m\u001b[39mwb+\u001b[39;49m\u001b[39m'\u001b[39;49m)\n\u001b[0;32m    868\u001b[0m out_f\u001b[39m.\u001b[39mseek(\u001b[39m0\u001b[39m)\n\u001b[0;32m    870\u001b[0m \u001b[39mif\u001b[39;00m \u001b[39mformat\u001b[39m \u001b[39m==\u001b[39m \u001b[39m\"\u001b[39m\u001b[39mraw\u001b[39m\u001b[39m\"\u001b[39m:\n",
      "File \u001b[1;32mc:\\Users\\gusdk\\anaconda3\\envs\\audio\\lib\\site-packages\\pydub\\utils.py:60\u001b[0m, in \u001b[0;36m_fd_or_path_or_tempfile\u001b[1;34m(fd, mode, tempfile)\u001b[0m\n\u001b[0;32m     57\u001b[0m     close_fd \u001b[39m=\u001b[39m \u001b[39mTrue\u001b[39;00m\n\u001b[0;32m     59\u001b[0m \u001b[39mif\u001b[39;00m \u001b[39misinstance\u001b[39m(fd, basestring):\n\u001b[1;32m---> 60\u001b[0m     fd \u001b[39m=\u001b[39m \u001b[39mopen\u001b[39;49m(fd, mode\u001b[39m=\u001b[39;49mmode)\n\u001b[0;32m     61\u001b[0m     close_fd \u001b[39m=\u001b[39m \u001b[39mTrue\u001b[39;00m\n\u001b[0;32m     63\u001b[0m \u001b[39mtry\u001b[39;00m:\n",
      "\u001b[1;31mPermissionError\u001b[0m: [Errno 13] Permission denied: 'C:\\\\Users\\\\gusdk\\\\AppData\\\\Local\\\\Temp\\\\tmp4l3mkt4z.wav'"
     ]
    }
   ],
   "source": [
    "# 필요한 라이브러리 임포트\n",
    "import soundfile as sf\n",
    "import pydub\n",
    "from pydub.playback import play\n",
    "\n",
    "# 음성 파일 경로 지정\n",
    "file_path = \"C:\\Github\\\\ai-programming\\\\6week\\ISEGYE IDOL-SuperHero.mp3\"\n",
    "\n",
    "# 음성 파일 읽기\n",
    "data, sample_rate = sf.read(file_path)\n",
    "\n",
    "# 음성 파일의 메타 정보 출력\n",
    "print(\"Sample Rate:\", sample_rate)\n",
    "print(\"Duration:\", len(data) / sample_rate, \"seconds\")\n",
    "\n",
    "# 음성 파일의 일부를 재생\n",
    "audio = pydub.AudioSegment.from_file(file_path, format=\"mp3\")\n",
    "play(audio)"
   ]
  },
  {
   "cell_type": "code",
   "execution_count": 4,
   "metadata": {},
   "outputs": [
    {
     "name": "stdout",
     "output_type": "stream",
     "text": [
      "Sample Rate: 44100\n",
      "Duration: 178.14349206349206 seconds\n"
     ]
    },
    {
     "ename": "NameError",
     "evalue": "name 'NamedTemporaryFile' is not defined",
     "output_type": "error",
     "traceback": [
      "\u001b[1;31m---------------------------------------------------------------------------\u001b[0m",
      "\u001b[1;31mNameError\u001b[0m                                 Traceback (most recent call last)",
      "\u001b[1;32mc:\\Github\\ai-programming\\6week\\recode\\audio.ipynb 셀 2\u001b[0m line \u001b[0;36m2\n\u001b[0;32m     <a href='vscode-notebook-cell:/c%3A/Github/ai-programming/6week/recode/audio.ipynb#W1sZmlsZQ%3D%3D?line=19'>20</a>\u001b[0m \u001b[39m# 임시 폴더를 변경하고 임시 WAV 파일 생성\u001b[39;00m\n\u001b[0;32m     <a href='vscode-notebook-cell:/c%3A/Github/ai-programming/6week/recode/audio.ipynb#W1sZmlsZQ%3D%3D?line=20'>21</a>\u001b[0m \u001b[39mwith\u001b[39;00m tempfile\u001b[39m.\u001b[39mTemporaryDirectory(\u001b[39mdir\u001b[39m\u001b[39m=\u001b[39mtemp_folder) \u001b[39mas\u001b[39;00m tmpdirname:\n\u001b[1;32m---> <a href='vscode-notebook-cell:/c%3A/Github/ai-programming/6week/recode/audio.ipynb#W1sZmlsZQ%3D%3D?line=21'>22</a>\u001b[0m     \u001b[39mwith\u001b[39;00m NamedTemporaryFile(\u001b[39mdir\u001b[39m\u001b[39m=\u001b[39mtmpdirname, suffix\u001b[39m=\u001b[39m\u001b[39m\"\u001b[39m\u001b[39m.wav\u001b[39m\u001b[39m\"\u001b[39m, delete\u001b[39m=\u001b[39m\u001b[39mFalse\u001b[39;00m) \u001b[39mas\u001b[39;00m f:\n\u001b[0;32m     <a href='vscode-notebook-cell:/c%3A/Github/ai-programming/6week/recode/audio.ipynb#W1sZmlsZQ%3D%3D?line=22'>23</a>\u001b[0m         \u001b[39m# 음성 데이터를 WAV 파일로 저장\u001b[39;00m\n\u001b[0;32m     <a href='vscode-notebook-cell:/c%3A/Github/ai-programming/6week/recode/audio.ipynb#W1sZmlsZQ%3D%3D?line=23'>24</a>\u001b[0m         sf\u001b[39m.\u001b[39mwrite(f\u001b[39m.\u001b[39mname, data, sample_rate)\n\u001b[0;32m     <a href='vscode-notebook-cell:/c%3A/Github/ai-programming/6week/recode/audio.ipynb#W1sZmlsZQ%3D%3D?line=25'>26</a>\u001b[0m         \u001b[39m# 생성한 WAV 파일을 재생\u001b[39;00m\n",
      "\u001b[1;31mNameError\u001b[0m: name 'NamedTemporaryFile' is not defined"
     ]
    }
   ],
   "source": [
    "import soundfile as sf\n",
    "import pydub\n",
    "from pydub.playback import play\n",
    "import tempfile\n",
    "import subprocess\n",
    "\n",
    "# 음성 파일 경로 지정\n",
    "file_path = \"C:\\Github\\\\ai-programming\\\\6week\\ISEGYE IDOL-SuperHero.mp3\"\n",
    "\n",
    "# 음성 파일 읽기\n",
    "data, sample_rate = sf.read(file_path)\n",
    "\n",
    "# 음성 파일의 메타 정보 출력\n",
    "print(\"Sample Rate:\", sample_rate)\n",
    "print(\"Duration:\", len(data) / sample_rate, \"seconds\")\n",
    "\n",
    "# 임시 폴더 경로 설정\n",
    "temp_folder = \"C:\\\\Github\\\\ai-programming\\\\6week\"\n",
    "\n",
    "# 임시 폴더를 변경하고 임시 WAV 파일 생성\n",
    "with tempfile.TemporaryDirectory(dir=temp_folder) as tmpdirname:\n",
    "    with NamedTemporaryFile(dir=tmpdirname, suffix=\".wav\", delete=False) as f:\n",
    "        # 음성 데이터를 WAV 파일로 저장\n",
    "        sf.write(f.name, data, sample_rate)\n",
    "\n",
    "        # 생성한 WAV 파일을 재생\n",
    "        subprocess.call([\"ffplay\", \"-nodisp\", \"-autoexit\", \"-hide_banner\", f.name])\n"
   ]
  },
  {
   "cell_type": "code",
   "execution_count": null,
   "metadata": {},
   "outputs": [],
   "source": []
  }
 ],
 "metadata": {
  "kernelspec": {
   "display_name": "audio",
   "language": "python",
   "name": "python3"
  },
  "language_info": {
   "codemirror_mode": {
    "name": "ipython",
    "version": 3
   },
   "file_extension": ".py",
   "mimetype": "text/x-python",
   "name": "python",
   "nbconvert_exporter": "python",
   "pygments_lexer": "ipython3",
   "version": "3.10.13"
  }
 },
 "nbformat": 4,
 "nbformat_minor": 2
}
