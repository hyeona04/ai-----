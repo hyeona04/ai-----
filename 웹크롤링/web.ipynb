{
 "cells": [
  {
   "cell_type": "code",
   "execution_count": null,
   "metadata": {},
   "outputs": [],
   "source": [
    "\n",
    "# 크롤링시 필요한 라이브러리 불러오기\n",
    "from bs4 import BeautifulSoup\n",
    "import requests\n",
    "import re\n",
    "import time\n",
    "from selenium import webdriver\n",
    "from selenium.webdriver.common.by import By\n",
    "url = 'https://www.yes24.com/24/Category/BestSeller'\n",
    "driver = webdriver.Chrome()\n",
    "driver.get(url)\n",
    "\n",
    "\n",
    "\n",
    "\n"
   ]
  },
  {
   "cell_type": "code",
   "execution_count": null,
   "metadata": {},
   "outputs": [],
   "source": [
    "#urllib로 첫 페이지 데이터 받아오기\n",
    "import urllib.request\n",
    "\n",
    "url = \"https://www.yes24.com/24/Category/BestSeller\"\n",
    "html = urllib.request.urlopen(url)\n",
    "\n",
    "print(html.read( ))"
   ]
  },
  {
   "cell_type": "code",
   "execution_count": null,
   "metadata": {},
   "outputs": [],
   "source": [
    "#뷰티풀솝에 데이터 넣기\n",
    "#import urllib.request\n",
    "#import  bs4\n",
    "# url = \"https://www.yes24.com/24/Category/BestSeller\"\n",
    "#html = urllib.request.urlopen(url)\n",
    "\n",
    "#bs_obj = bs4.BeautifulSoup(html, \"html.parser\")\n",
    "\n",
    "# print(bs_obj)"
   ]
  },
  {
   "cell_type": "code",
   "execution_count": null,
   "metadata": {},
   "outputs": [],
   "source": [
    "# #뷰티풀솝으로 필요한 부분 뽑아내기\n",
    "# import urllib.request\n",
    "# import  bs4\n",
    "\n",
    "# url = \"https://www.yes24.com/24/Category/BestSeller\"\n",
    "# html = urllib.request.urlopen(url)\n",
    "\n",
    "# bs_obj = bs4.BeautifulSoup(html, \"html.parser\")\n",
    "\n",
    "# book_title = bs_obj.find(\"li\",{\"class\":\"num1\"})\n",
    "# print(book_title)"
   ]
  },
  {
   "cell_type": "code",
   "execution_count": null,
   "metadata": {},
   "outputs": [],
   "source": [
    "#뷰티풀솝으로 필요한 부분 뽑아내기2\n",
    "import urllib.request\n",
    "import  bs4\n",
    "\n",
    "url = \"https://www.yes24.com/24/Category/BestSeller\"\n",
    "html = urllib.request.urlopen(url)\n",
    "\n",
    "bs_obj = bs4.BeautifulSoup(html, \"html.parser\")\n",
    "\n",
    "book_title = bs_obj.find(\"li\",{\"class\":\"num1\"})\n",
    "book_first = book_title.find(\"a\")\n",
    "print(book_first.text)\n",
    "\n",
    "#두번째 나오는 a태그를 뽑아내는 방법을 모르겠음.\n"
   ]
  },
  {
   "cell_type": "code",
   "execution_count": null,
   "metadata": {},
   "outputs": [],
   "source": [
    "import urllib.request\n",
    "import  bs4\n",
    "\n",
    "url = \"https://www.yes24.com/24/Category/BestSeller\"\n",
    "html = urllib.request.urlopen(url)\n",
    "\n",
    "bs_obj = bs4.BeautifulSoup(html, \"html.parser\")\n",
    "\n",
    "book_title = bs_obj.find(\"li\",{\"class\":\"num1\"})\n",
    "book_first = book_title.find_all(\"a\")\n",
    "print(book_first[2].text)"
   ]
  },
  {
   "cell_type": "code",
   "execution_count": null,
   "metadata": {},
   "outputs": [],
   "source": [
    "import urllib.request\n",
    "import  bs4\n",
    "\n",
    "url = \"https://www.yes24.com/24/Category/BestSeller\"\n",
    "html = urllib.request.urlopen(url)\n",
    "\n",
    "bs_obj = bs4.BeautifulSoup(html, \"html.parser\")\n",
    "\n",
    "book_title = bs_obj.find(\"li\",{\"class\":\"num2\"})\n",
    "book_first = book_title.find_all(\"a\")\n",
    "print(book_first[2].text)"
   ]
  },
  {
   "cell_type": "code",
   "execution_count": null,
   "metadata": {},
   "outputs": [],
   "source": [
    "import urllib.request\n",
    "import bs4\n",
    "\n",
    "url = \"https://www.yes24.com/24/Category/BestSeller\"\n",
    "html = urllib.request.urlopen(url)\n",
    "\n",
    "bs_obj = bs4.BeautifulSoup(html, \"html.parser\")\n",
    "\n",
    "book_titles = bs_obj.find_all(\"li\", {\"class\": \"num\"})[:30]\n",
    "\n",
    "for book_title in book_titles:\n",
    "    all_a_tags = book_title.find_all(\"a\")\n",
    "    \n",
    "    if len(all_a_tags) >= 3:\n",
    "        third_a_tag = all_a_tags[2]\n",
    "        text_inside_third_a = third_a_tag.text\n",
    "        print(text_inside_third_a)\n",
    "    else:\n",
    "        print(\"There are fewer than three <a> tags within one of the specified <li> elements.\")\n"
   ]
  },
  {
   "cell_type": "code",
   "execution_count": null,
   "metadata": {},
   "outputs": [],
   "source": [
    "import urllib.request\n",
    "import  bs4\n",
    "\n",
    "url = \"https://www.yes24.com/24/Category/BestSeller\"\n",
    "html = urllib.request.urlopen(url)\n",
    "\n",
    "bs_obj = bs4.BeautifulSoup(html, \"html.parser\")\n",
    "\n",
    "book_title = bs_obj.find(\"li\",{\"class\":\"num\"})\n",
    "book_first = book_title.find(\"a\")\n",
    "\n",
    "for num in range(30) :\n",
    "    print(book_first[2].text)\n"
   ]
  },
  {
   "cell_type": "code",
   "execution_count": null,
   "metadata": {},
   "outputs": [],
   "source": [
    "import urllib.request\n",
    "import bs4\n",
    "\n",
    "url = \"https://www.yes24.com/24/Category/BestSeller\"\n",
    "html = urllib.request.urlopen(url)\n",
    "\n",
    "bs_obj = bs4.BeautifulSoup(html, \"html.parser\")\n",
    "\n",
    "# Find the <li> element with class \"num\"\n",
    "book_title = bs_obj.find(\"li\", {\"class\": \"num\"})\n",
    "\n",
    "# Check if the <li> element with class \"num\" is found\n",
    "if book_title:\n",
    "    # Find all <a> tags within the <li> element\n",
    "    all_a_tags = book_title.find_all(\"a\")\n",
    "\n",
    "    # Check if there are at least three <a> tags in the list\n",
    "    if len(all_a_tags) >= 3:\n",
    "        # Extract the text from the third <a> tag\n",
    "        third_a_tag = all_a_tags[2]\n",
    "        text_inside_third_a = third_a_tag.text\n",
    "        print(text_inside_third_a)\n",
    "    else:\n",
    "        print(\"There are fewer than three <a> tags within the specified <li> element.\")\n",
    "else:\n",
    "    print(\"The <li> element with class 'num' was not found on the page.\")\n"
   ]
  },
  {
   "cell_type": "code",
   "execution_count": null,
   "metadata": {},
   "outputs": [],
   "source": [
    "#뷰티풀솝으로 필요한 부분 뽑아내기2\n",
    "import urllib.request\n",
    "import  bs4\n",
    "\n",
    "url = \"https://www.yes24.com/24/Category/BestSeller\"\n",
    "html = urllib.request.urlopen(url)\n",
    "\n",
    "bs_obj = bs4.BeautifulSoup(html, \"html.parser\")\n",
    "\n",
    "book_title = bs_obj.find(\"div\",{\"class\":\"viewDetail\"})\n",
    "book_first = book_title.find(\"a\")\n",
    "print(book_first.text)\n"
   ]
  },
  {
   "cell_type": "code",
   "execution_count": null,
   "metadata": {},
   "outputs": [],
   "source": [
    "import requests\n",
    "from bs4 \n",
    "\n",
    "url = \"https://www.yes24.com/24/Category/BestSeller\"\n",
    "html = urllib.request.urlopen(url)\n",
    "\n",
    "bs_obj = bs4.BeautifulSoup(html, \"html.parser\")\n",
    "\n",
    "ol = bs_obj.find(\"ol\", {\"class\"})\n",
    "print(ol)"
   ]
  },
  {
   "cell_type": "code",
   "execution_count": null,
   "metadata": {},
   "outputs": [],
   "source": [
    "import urllib.request\n",
    "import  bs4\n",
    "\n",
    "url = \"https://www.yes24.com/24/Category/BestSeller\"\n",
    "html = urllib.request.urlopen(url)\n",
    "\n",
    "bs_obj = bs4.BeautifulSoup(html, \"html.parser\")\n",
    "\n",
    "for i in range(1,41):\n",
    "    class_name = \"num\" + str(i)\n",
    "    book_title = bs_obj.find(\"li\", {\"class\": class_name})\n",
    "    if book_title:\n",
    "        book_first = book_title.find_all(\"a\")\n",
    "        if len(book_first) > 2:\n",
    "            print(f\"{i} 번\",book_first[2].text,'\\n',f'저자 : {book_first[3].text}')\n",
    "\n",
    "# for i in range(1,41):\n",
    "#     class_name = \"num\" + str(i)\n",
    "#     book_title = bs_obj.find(\"li\", {\"class\": class_name})\n",
    "#     if book_title:\n",
    "#         book_first = book_title.find_all(\"a\")\n",
    "#         if len(book_first) > 2:\n",
    "#             print(f\"{i} 번\",book_first[3].text)"
   ]
  },
  {
   "cell_type": "code",
   "execution_count": null,
   "metadata": {},
   "outputs": [],
   "source": [
    "for i in range(1,41):\n",
    "    class_name = \"num\" + str(i)\n",
    "    book_title = bs_obj.find(\"li\", {\"class\": class_name})\n",
    "    if book_title:\n",
    "        book_first = book_title.find_all(\"a\")\n",
    "        if len(book_first) > 2:\n",
    "            print(book_first[2].text)\n"
   ]
  },
  {
   "cell_type": "code",
   "execution_count": null,
   "metadata": {},
   "outputs": [],
   "source": []
  },
  {
   "cell_type": "code",
   "execution_count": null,
   "metadata": {},
   "outputs": [],
   "source": []
  }
 ],
 "metadata": {
  "kernelspec": {
   "display_name": "cr",
   "language": "python",
   "name": "python3"
  },
  "language_info": {
   "codemirror_mode": {
    "name": "ipython",
    "version": 3
   },
   "file_extension": ".py",
   "mimetype": "text/x-python",
   "name": "python",
   "nbconvert_exporter": "python",
   "pygments_lexer": "ipython3",
   "version": "3.10.12"
  },
  "orig_nbformat": 4
 },
 "nbformat": 4,
 "nbformat_minor": 2
}
