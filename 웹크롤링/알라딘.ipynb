{
 "cells": [
  {
   "cell_type": "code",
   "execution_count": 1,
   "metadata": {},
   "outputs": [
    {
     "name": "stderr",
     "output_type": "stream",
     "text": [
      "C:\\Users\\gusdk\\AppData\\Local\\Temp\\ipykernel_25612\\1931703340.py:23: DeprecationWarning: The 'text' argument to find()-type methods is deprecated. Use 'string' instead.\n",
      "  publication_date = book.find(\"li\", text=lambda text: \"년\" in text).text.strip()\n"
     ]
    },
    {
     "ename": "TypeError",
     "evalue": "argument of type 'NoneType' is not iterable",
     "output_type": "error",
     "traceback": [
      "\u001b[1;31m---------------------------------------------------------------------------\u001b[0m",
      "\u001b[1;31mTypeError\u001b[0m                                 Traceback (most recent call last)",
      "\u001b[1;32mc:\\Github\\ai-programming\\웹크롤링\\알라딘.ipynb 셀 1\u001b[0m line \u001b[0;36m2\n\u001b[0;32m     <a href='vscode-notebook-cell:/c%3A/Github/ai-programming/%EC%9B%B9%ED%81%AC%EB%A1%A4%EB%A7%81/%EC%95%8C%EB%9D%BC%EB%94%98.ipynb#W0sZmlsZQ%3D%3D?line=20'>21</a>\u001b[0m author \u001b[39m=\u001b[39m book\u001b[39m.\u001b[39mfind(\u001b[39m\"\u001b[39m\u001b[39ma\u001b[39m\u001b[39m\"\u001b[39m, href\u001b[39m=\u001b[39m\u001b[39mlambda\u001b[39;00m href: href \u001b[39mand\u001b[39;00m \u001b[39m\"\u001b[39m\u001b[39mAuthorSearch\u001b[39m\u001b[39m\"\u001b[39m \u001b[39min\u001b[39;00m href)\u001b[39m.\u001b[39mtext\n\u001b[0;32m     <a href='vscode-notebook-cell:/c%3A/Github/ai-programming/%EC%9B%B9%ED%81%AC%EB%A1%A4%EB%A7%81/%EC%95%8C%EB%9D%BC%EB%94%98.ipynb#W0sZmlsZQ%3D%3D?line=21'>22</a>\u001b[0m publisher \u001b[39m=\u001b[39m book\u001b[39m.\u001b[39mfind(\u001b[39m\"\u001b[39m\u001b[39ma\u001b[39m\u001b[39m\"\u001b[39m, href\u001b[39m=\u001b[39m\u001b[39mlambda\u001b[39;00m href: href \u001b[39mand\u001b[39;00m \u001b[39m\"\u001b[39m\u001b[39mPublisherSearch\u001b[39m\u001b[39m\"\u001b[39m \u001b[39min\u001b[39;00m href)\u001b[39m.\u001b[39mtext\n\u001b[1;32m---> <a href='vscode-notebook-cell:/c%3A/Github/ai-programming/%EC%9B%B9%ED%81%AC%EB%A1%A4%EB%A7%81/%EC%95%8C%EB%9D%BC%EB%94%98.ipynb#W0sZmlsZQ%3D%3D?line=22'>23</a>\u001b[0m publication_date \u001b[39m=\u001b[39m book\u001b[39m.\u001b[39;49mfind(\u001b[39m\"\u001b[39;49m\u001b[39mli\u001b[39;49m\u001b[39m\"\u001b[39;49m, text\u001b[39m=\u001b[39;49m\u001b[39mlambda\u001b[39;49;00m text: \u001b[39m\"\u001b[39;49m\u001b[39m년\u001b[39;49m\u001b[39m\"\u001b[39;49m \u001b[39min\u001b[39;49;00m text)\u001b[39m.\u001b[39mtext\u001b[39m.\u001b[39mstrip()\n\u001b[0;32m     <a href='vscode-notebook-cell:/c%3A/Github/ai-programming/%EC%9B%B9%ED%81%AC%EB%A1%A4%EB%A7%81/%EC%95%8C%EB%9D%BC%EB%94%98.ipynb#W0sZmlsZQ%3D%3D?line=23'>24</a>\u001b[0m original_price \u001b[39m=\u001b[39m book\u001b[39m.\u001b[39mfind(\u001b[39m\"\u001b[39m\u001b[39mspan\u001b[39m\u001b[39m\"\u001b[39m, class_\u001b[39m=\u001b[39m\u001b[39m\"\u001b[39m\u001b[39m\"\u001b[39m)\u001b[39m.\u001b[39mtext\u001b[39m.\u001b[39mstrip()\n\u001b[0;32m     <a href='vscode-notebook-cell:/c%3A/Github/ai-programming/%EC%9B%B9%ED%81%AC%EB%A1%A4%EB%A7%81/%EC%95%8C%EB%9D%BC%EB%94%98.ipynb#W0sZmlsZQ%3D%3D?line=24'>25</a>\u001b[0m discounted_price \u001b[39m=\u001b[39m book\u001b[39m.\u001b[39mfind(\u001b[39m\"\u001b[39m\u001b[39mspan\u001b[39m\u001b[39m\"\u001b[39m, class_\u001b[39m=\u001b[39m\u001b[39m\"\u001b[39m\u001b[39mss_p2\u001b[39m\u001b[39m\"\u001b[39m)\u001b[39m.\u001b[39mtext\u001b[39m.\u001b[39mstrip()\n",
      "File \u001b[1;32mc:\\Users\\gusdk\\anaconda3\\envs\\cr\\lib\\site-packages\\bs4\\element.py:2001\u001b[0m, in \u001b[0;36mTag.find\u001b[1;34m(self, name, attrs, recursive, string, **kwargs)\u001b[0m\n\u001b[0;32m   1984\u001b[0m \u001b[39m\u001b[39m\u001b[39m\"\"\"Look in the children of this PageElement and find the first\u001b[39;00m\n\u001b[0;32m   1985\u001b[0m \u001b[39mPageElement that matches the given criteria.\u001b[39;00m\n\u001b[0;32m   1986\u001b[0m \n\u001b[1;32m   (...)\u001b[0m\n\u001b[0;32m   1998\u001b[0m \u001b[39m:rtype: bs4.element.Tag | bs4.element.NavigableString\u001b[39;00m\n\u001b[0;32m   1999\u001b[0m \u001b[39m\"\"\"\u001b[39;00m\n\u001b[0;32m   2000\u001b[0m r \u001b[39m=\u001b[39m \u001b[39mNone\u001b[39;00m\n\u001b[1;32m-> 2001\u001b[0m l \u001b[39m=\u001b[39m \u001b[39mself\u001b[39m\u001b[39m.\u001b[39mfind_all(name, attrs, recursive, string, \u001b[39m1\u001b[39m, _stacklevel\u001b[39m=\u001b[39m\u001b[39m3\u001b[39m,\n\u001b[0;32m   2002\u001b[0m                   \u001b[39m*\u001b[39m\u001b[39m*\u001b[39mkwargs)\n\u001b[0;32m   2003\u001b[0m \u001b[39mif\u001b[39;00m l:\n\u001b[0;32m   2004\u001b[0m     r \u001b[39m=\u001b[39m l[\u001b[39m0\u001b[39m]\n",
      "File \u001b[1;32mc:\\Users\\gusdk\\anaconda3\\envs\\cr\\lib\\site-packages\\bs4\\element.py:2030\u001b[0m, in \u001b[0;36mTag.find_all\u001b[1;34m(self, name, attrs, recursive, string, limit, **kwargs)\u001b[0m\n\u001b[0;32m   2028\u001b[0m     generator \u001b[39m=\u001b[39m \u001b[39mself\u001b[39m\u001b[39m.\u001b[39mchildren\n\u001b[0;32m   2029\u001b[0m _stacklevel \u001b[39m=\u001b[39m kwargs\u001b[39m.\u001b[39mpop(\u001b[39m'\u001b[39m\u001b[39m_stacklevel\u001b[39m\u001b[39m'\u001b[39m, \u001b[39m2\u001b[39m)\n\u001b[1;32m-> 2030\u001b[0m \u001b[39mreturn\u001b[39;00m \u001b[39mself\u001b[39m\u001b[39m.\u001b[39m_find_all(name, attrs, string, limit, generator,\n\u001b[0;32m   2031\u001b[0m                       _stacklevel\u001b[39m=\u001b[39m_stacklevel\u001b[39m+\u001b[39m\u001b[39m1\u001b[39m, \u001b[39m*\u001b[39m\u001b[39m*\u001b[39mkwargs)\n",
      "File \u001b[1;32mc:\\Users\\gusdk\\anaconda3\\envs\\cr\\lib\\site-packages\\bs4\\element.py:841\u001b[0m, in \u001b[0;36mPageElement._find_all\u001b[1;34m(self, name, attrs, string, limit, generator, **kwargs)\u001b[0m\n\u001b[0;32m    839\u001b[0m     \u001b[39mbreak\u001b[39;00m\n\u001b[0;32m    840\u001b[0m \u001b[39mif\u001b[39;00m i:\n\u001b[1;32m--> 841\u001b[0m     found \u001b[39m=\u001b[39m strainer\u001b[39m.\u001b[39;49msearch(i)\n\u001b[0;32m    842\u001b[0m     \u001b[39mif\u001b[39;00m found:\n\u001b[0;32m    843\u001b[0m         results\u001b[39m.\u001b[39mappend(found)\n",
      "File \u001b[1;32mc:\\Users\\gusdk\\anaconda3\\envs\\cr\\lib\\site-packages\\bs4\\element.py:2320\u001b[0m, in \u001b[0;36mSoupStrainer.search\u001b[1;34m(self, markup)\u001b[0m\n\u001b[0;32m   2318\u001b[0m \u001b[39melif\u001b[39;00m \u001b[39misinstance\u001b[39m(markup, Tag):\n\u001b[0;32m   2319\u001b[0m     \u001b[39mif\u001b[39;00m \u001b[39mnot\u001b[39;00m \u001b[39mself\u001b[39m\u001b[39m.\u001b[39mstring \u001b[39mor\u001b[39;00m \u001b[39mself\u001b[39m\u001b[39m.\u001b[39mname \u001b[39mor\u001b[39;00m \u001b[39mself\u001b[39m\u001b[39m.\u001b[39mattrs:\n\u001b[1;32m-> 2320\u001b[0m         found \u001b[39m=\u001b[39m \u001b[39mself\u001b[39;49m\u001b[39m.\u001b[39;49msearch_tag(markup)\n\u001b[0;32m   2321\u001b[0m \u001b[39m# If it's text, make sure the text matches.\u001b[39;00m\n\u001b[0;32m   2322\u001b[0m \u001b[39melif\u001b[39;00m \u001b[39misinstance\u001b[39m(markup, NavigableString) \u001b[39mor\u001b[39;00m \\\n\u001b[0;32m   2323\u001b[0m          \u001b[39misinstance\u001b[39m(markup, \u001b[39mstr\u001b[39m):\n",
      "File \u001b[1;32mc:\\Users\\gusdk\\anaconda3\\envs\\cr\\lib\\site-packages\\bs4\\element.py:2291\u001b[0m, in \u001b[0;36mSoupStrainer.search_tag\u001b[1;34m(self, markup_name, markup_attrs)\u001b[0m\n\u001b[0;32m   2289\u001b[0m         \u001b[39melse\u001b[39;00m:\n\u001b[0;32m   2290\u001b[0m             found \u001b[39m=\u001b[39m markup_name\n\u001b[1;32m-> 2291\u001b[0m \u001b[39mif\u001b[39;00m found \u001b[39mand\u001b[39;00m \u001b[39mself\u001b[39m\u001b[39m.\u001b[39mstring \u001b[39mand\u001b[39;00m \u001b[39mnot\u001b[39;00m \u001b[39mself\u001b[39;49m\u001b[39m.\u001b[39;49m_matches(found\u001b[39m.\u001b[39;49mstring, \u001b[39mself\u001b[39;49m\u001b[39m.\u001b[39;49mstring):\n\u001b[0;32m   2292\u001b[0m     found \u001b[39m=\u001b[39m \u001b[39mNone\u001b[39;00m\n\u001b[0;32m   2293\u001b[0m \u001b[39mreturn\u001b[39;00m found\n",
      "File \u001b[1;32mc:\\Users\\gusdk\\anaconda3\\envs\\cr\\lib\\site-packages\\bs4\\element.py:2352\u001b[0m, in \u001b[0;36mSoupStrainer._matches\u001b[1;34m(self, markup, match_against, already_tried)\u001b[0m\n\u001b[0;32m   2349\u001b[0m     \u001b[39mreturn\u001b[39;00m markup \u001b[39mis\u001b[39;00m \u001b[39mnot\u001b[39;00m \u001b[39mNone\u001b[39;00m\n\u001b[0;32m   2351\u001b[0m \u001b[39mif\u001b[39;00m \u001b[39misinstance\u001b[39m(match_against, Callable):\n\u001b[1;32m-> 2352\u001b[0m     \u001b[39mreturn\u001b[39;00m match_against(markup)\n\u001b[0;32m   2354\u001b[0m \u001b[39m# Custom callables take the tag as an argument, but all\u001b[39;00m\n\u001b[0;32m   2355\u001b[0m \u001b[39m# other ways of matching match the tag name as a string.\u001b[39;00m\n\u001b[0;32m   2356\u001b[0m original_markup \u001b[39m=\u001b[39m markup\n",
      "\u001b[1;32mc:\\Github\\ai-programming\\웹크롤링\\알라딘.ipynb 셀 1\u001b[0m line \u001b[0;36m2\n\u001b[0;32m     <a href='vscode-notebook-cell:/c%3A/Github/ai-programming/%EC%9B%B9%ED%81%AC%EB%A1%A4%EB%A7%81/%EC%95%8C%EB%9D%BC%EB%94%98.ipynb#W0sZmlsZQ%3D%3D?line=20'>21</a>\u001b[0m author \u001b[39m=\u001b[39m book\u001b[39m.\u001b[39mfind(\u001b[39m\"\u001b[39m\u001b[39ma\u001b[39m\u001b[39m\"\u001b[39m, href\u001b[39m=\u001b[39m\u001b[39mlambda\u001b[39;00m href: href \u001b[39mand\u001b[39;00m \u001b[39m\"\u001b[39m\u001b[39mAuthorSearch\u001b[39m\u001b[39m\"\u001b[39m \u001b[39min\u001b[39;00m href)\u001b[39m.\u001b[39mtext\n\u001b[0;32m     <a href='vscode-notebook-cell:/c%3A/Github/ai-programming/%EC%9B%B9%ED%81%AC%EB%A1%A4%EB%A7%81/%EC%95%8C%EB%9D%BC%EB%94%98.ipynb#W0sZmlsZQ%3D%3D?line=21'>22</a>\u001b[0m publisher \u001b[39m=\u001b[39m book\u001b[39m.\u001b[39mfind(\u001b[39m\"\u001b[39m\u001b[39ma\u001b[39m\u001b[39m\"\u001b[39m, href\u001b[39m=\u001b[39m\u001b[39mlambda\u001b[39;00m href: href \u001b[39mand\u001b[39;00m \u001b[39m\"\u001b[39m\u001b[39mPublisherSearch\u001b[39m\u001b[39m\"\u001b[39m \u001b[39min\u001b[39;00m href)\u001b[39m.\u001b[39mtext\n\u001b[1;32m---> <a href='vscode-notebook-cell:/c%3A/Github/ai-programming/%EC%9B%B9%ED%81%AC%EB%A1%A4%EB%A7%81/%EC%95%8C%EB%9D%BC%EB%94%98.ipynb#W0sZmlsZQ%3D%3D?line=22'>23</a>\u001b[0m publication_date \u001b[39m=\u001b[39m book\u001b[39m.\u001b[39mfind(\u001b[39m\"\u001b[39m\u001b[39mli\u001b[39m\u001b[39m\"\u001b[39m, text\u001b[39m=\u001b[39m\u001b[39mlambda\u001b[39;00m text: \u001b[39m\"\u001b[39;49m\u001b[39m년\u001b[39;49m\u001b[39m\"\u001b[39;49m \u001b[39min\u001b[39;49;00m text)\u001b[39m.\u001b[39mtext\u001b[39m.\u001b[39mstrip()\n\u001b[0;32m     <a href='vscode-notebook-cell:/c%3A/Github/ai-programming/%EC%9B%B9%ED%81%AC%EB%A1%A4%EB%A7%81/%EC%95%8C%EB%9D%BC%EB%94%98.ipynb#W0sZmlsZQ%3D%3D?line=23'>24</a>\u001b[0m original_price \u001b[39m=\u001b[39m book\u001b[39m.\u001b[39mfind(\u001b[39m\"\u001b[39m\u001b[39mspan\u001b[39m\u001b[39m\"\u001b[39m, class_\u001b[39m=\u001b[39m\u001b[39m\"\u001b[39m\u001b[39m\"\u001b[39m)\u001b[39m.\u001b[39mtext\u001b[39m.\u001b[39mstrip()\n\u001b[0;32m     <a href='vscode-notebook-cell:/c%3A/Github/ai-programming/%EC%9B%B9%ED%81%AC%EB%A1%A4%EB%A7%81/%EC%95%8C%EB%9D%BC%EB%94%98.ipynb#W0sZmlsZQ%3D%3D?line=24'>25</a>\u001b[0m discounted_price \u001b[39m=\u001b[39m book\u001b[39m.\u001b[39mfind(\u001b[39m\"\u001b[39m\u001b[39mspan\u001b[39m\u001b[39m\"\u001b[39m, class_\u001b[39m=\u001b[39m\u001b[39m\"\u001b[39m\u001b[39mss_p2\u001b[39m\u001b[39m\"\u001b[39m)\u001b[39m.\u001b[39mtext\u001b[39m.\u001b[39mstrip()\n",
      "\u001b[1;31mTypeError\u001b[0m: argument of type 'NoneType' is not iterable"
     ]
    }
   ],
   "source": [
    "import requests\n",
    "from bs4 import BeautifulSoup\n",
    "\n",
    "# 웹 페이지의 URL 설정\n",
    "url = \"https://www.aladin.co.kr/shop/common/wbest.aspx?BranchType=1&start=we\"\n",
    "\n",
    "# HTTP GET 요청 보내고 페이지 내용 가져오기\n",
    "response = requests.get(url)\n",
    "\n",
    "# HTTP 요청이 성공했는지 확인\n",
    "if response.status_code == 200:\n",
    "    # BeautifulSoup을 사용하여 HTML 파싱\n",
    "    soup = BeautifulSoup(response.text, \"html.parser\")\n",
    "\n",
    "    # 책 목록 추출\n",
    "    book_list = soup.find_all(\"div\", class_=\"ss_book_box\")\n",
    "\n",
    "    # 각 책 정보 출력\n",
    "    for book in book_list:\n",
    "        book_title = book.find(\"a\", class_=\"bo3\").text.strip()\n",
    "        author = book.find(\"a\", href=lambda href: href and \"AuthorSearch\" in href).text\n",
    "        publisher = book.find(\"a\", href=lambda href: href and \"PublisherSearch\" in href).text\n",
    "        publication_date = book.find(\"li\", text=lambda text: \"년\" in text).text.strip()\n",
    "        original_price = book.find(\"span\", class_=\"\").text.strip()\n",
    "        discounted_price = book.find(\"span\", class_=\"ss_p2\").text.strip()\n",
    "        rating = book.find(\"img\", alt=\"별점\").find_next(\"a\").text.strip()\n",
    "        sales_points = book.find(\"b\", text=lambda text: \"세일즈포인트\" in text).text.strip()\n",
    "\n",
    "        # 결과 출력\n",
    "        print(\"책 제목:\", book_title)\n",
    "        print(\"저자:\", author)\n",
    "        print(\"출판사:\", publisher)\n",
    "        print(\"출간일:\", publication_date)\n",
    "        print(\"정가:\", original_price)\n",
    "        print(\"할인 가격:\", discounted_price)\n",
    "        print(\"평점:\", rating)\n",
    "        print(\"세일즈포인트:\", sales_points)\n",
    "        print(\"=\" * 50)  # 구분선 출력\n",
    "else:\n",
    "    print(\"HTTP 요청에 실패했습니다.\")\n"
   ]
  }
 ],
 "metadata": {
  "kernelspec": {
   "display_name": "cr",
   "language": "python",
   "name": "python3"
  },
  "language_info": {
   "codemirror_mode": {
    "name": "ipython",
    "version": 3
   },
   "file_extension": ".py",
   "mimetype": "text/x-python",
   "name": "python",
   "nbconvert_exporter": "python",
   "pygments_lexer": "ipython3",
   "version": "3.10.12"
  },
  "orig_nbformat": 4
 },
 "nbformat": 4,
 "nbformat_minor": 2
}
