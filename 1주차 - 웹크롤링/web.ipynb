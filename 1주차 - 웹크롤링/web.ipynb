{
 "cells": [
  {
   "cell_type": "code",
   "execution_count": null,
   "metadata": {},
   "outputs": [],
   "source": [
    "\n",
    "# 크롤링시 필요한 라이브러리 불러오기\n",
    "from bs4 import BeautifulSoup\n",
    "import requests\n",
    "import re\n",
    "import time\n",
    "from selenium import webdriver\n",
    "from selenium.webdriver.common.by import By\n",
    "url = 'https://www.yes24.com/24/Category/BestSeller'\n",
    "driver = webdriver.Chrome()\n",
    "driver.get(url)\n",
    "\n",
    "\n",
    "\n",
    "\n"
   ]
  },
  {
   "cell_type": "code",
   "execution_count": null,
   "metadata": {},
   "outputs": [],
   "source": [
    "#urllib로 첫 페이지 데이터 받아오기\n",
    "import urllib.request\n",
    "\n",
    "url = \"https://www.yes24.com/24/Category/BestSeller\"\n",
    "html = urllib.request.urlopen(url)\n",
    "\n",
    "print(html.read( ))"
   ]
  },
  {
   "cell_type": "code",
   "execution_count": null,
   "metadata": {},
   "outputs": [],
   "source": [
    "#뷰티풀솝에 데이터 넣기\n",
    "#import urllib.request\n",
    "#import  bs4\n",
    "# url = \"https://www.yes24.com/24/Category/BestSeller\"\n",
    "#html = urllib.request.urlopen(url)\n",
    "\n",
    "#bs_obj = bs4.BeautifulSoup(html, \"html.parser\")\n",
    "\n",
    "# print(bs_obj)"
   ]
  },
  {
   "cell_type": "code",
   "execution_count": null,
   "metadata": {},
   "outputs": [],
   "source": [
    "# #뷰티풀솝으로 필요한 부분 뽑아내기\n",
    "# import urllib.request\n",
    "# import  bs4\n",
    "\n",
    "# url = \"https://www.yes24.com/24/Category/BestSeller\"\n",
    "# html = urllib.request.urlopen(url)\n",
    "\n",
    "# bs_obj = bs4.BeautifulSoup(html, \"html.parser\")\n",
    "\n",
    "# book_title = bs_obj.find(\"li\",{\"class\":\"num1\"})\n",
    "# print(book_title)"
   ]
  },
  {
   "cell_type": "code",
   "execution_count": null,
   "metadata": {},
   "outputs": [],
   "source": [
    "#뷰티풀솝으로 필요한 부분 뽑아내기2\n",
    "import urllib.request\n",
    "import  bs4\n",
    "\n",
    "url = \"https://www.yes24.com/24/Category/BestSeller\"\n",
    "html = urllib.request.urlopen(url)\n",
    "\n",
    "bs_obj = bs4.BeautifulSoup(html, \"html.parser\")\n",
    "\n",
    "book_title = bs_obj.find(\"li\",{\"class\":\"num1\"})\n",
    "book_first = book_title.find(\"a\")\n",
    "print(book_first.text)\n",
    "\n",
    "#두번째 나오는 a태그를 뽑아내는 방법을 모르겠음.\n"
   ]
  },
  {
   "cell_type": "code",
   "execution_count": null,
   "metadata": {},
   "outputs": [],
   "source": [
    "import urllib.request\n",
    "import  bs4\n",
    "\n",
    "url = \"https://www.yes24.com/24/Category/BestSeller\"\n",
    "html = urllib.request.urlopen(url)\n",
    "\n",
    "bs_obj = bs4.BeautifulSoup(html, \"html.parser\")\n",
    "\n",
    "book_title = bs_obj.find(\"li\",{\"class\":\"num1\"})\n",
    "book_first = book_title.find_all(\"a\")\n",
    "print(book_first[2].text)"
   ]
  },
  {
   "cell_type": "code",
   "execution_count": null,
   "metadata": {},
   "outputs": [],
   "source": [
    "import urllib.request\n",
    "import  bs4\n",
    "\n",
    "url = \"https://www.yes24.com/24/Category/BestSeller\"\n",
    "html = urllib.request.urlopen(url)\n",
    "\n",
    "bs_obj = bs4.BeautifulSoup(html, \"html.parser\")\n",
    "\n",
    "book_title = bs_obj.find(\"li\",{\"class\":\"num2\"})\n",
    "book_first = book_title.find_all(\"a\")\n",
    "print(book_first[2].text)"
   ]
  },
  {
   "cell_type": "code",
   "execution_count": null,
   "metadata": {},
   "outputs": [],
   "source": [
    "import urllib.request\n",
    "import bs4\n",
    "\n",
    "url = \"https://www.yes24.com/24/Category/BestSeller\"\n",
    "html = urllib.request.urlopen(url)\n",
    "\n",
    "bs_obj = bs4.BeautifulSoup(html, \"html.parser\")\n",
    "\n",
    "book_titles = bs_obj.find_all(\"li\", {\"class\": \"num\"})[:30]\n",
    "\n",
    "for book_title in book_titles:\n",
    "    all_a_tags = book_title.find_all(\"a\")\n",
    "    \n",
    "    if len(all_a_tags) >= 3:\n",
    "        third_a_tag = all_a_tags[2]\n",
    "        text_inside_third_a = third_a_tag.text\n",
    "        print(text_inside_third_a)\n",
    "    else:\n",
    "        print(\"There are fewer than three <a> tags within one of the specified <li> elements.\")\n"
   ]
  },
  {
   "cell_type": "code",
   "execution_count": null,
   "metadata": {},
   "outputs": [],
   "source": [
    "import urllib.request\n",
    "import  bs4\n",
    "\n",
    "url = \"https://www.yes24.com/24/Category/BestSeller\"\n",
    "html = urllib.request.urlopen(url)\n",
    "\n",
    "bs_obj = bs4.BeautifulSoup(html, \"html.parser\")\n",
    "\n",
    "book_title = bs_obj.find(\"li\",{\"class\":\"num\"})\n",
    "book_first = book_title.find(\"a\")\n",
    "\n",
    "for num in range(30) :\n",
    "    print(book_first[2].text)\n"
   ]
  },
  {
   "cell_type": "code",
   "execution_count": null,
   "metadata": {},
   "outputs": [],
   "source": [
    "import urllib.request\n",
    "import bs4\n",
    "\n",
    "url = \"https://www.yes24.com/24/Category/BestSeller\"\n",
    "html = urllib.request.urlopen(url)\n",
    "\n",
    "bs_obj = bs4.BeautifulSoup(html, \"html.parser\")\n",
    "\n",
    "# Find the <li> element with class \"num\"\n",
    "book_title = bs_obj.find(\"li\", {\"class\": \"num\"})\n",
    "\n",
    "# Check if the <li> element with class \"num\" is found\n",
    "if book_title:\n",
    "    # Find all <a> tags within the <li> element\n",
    "    all_a_tags = book_title.find_all(\"a\")\n",
    "\n",
    "    # Check if there are at least three <a> tags in the list\n",
    "    if len(all_a_tags) >= 3:\n",
    "        # Extract the text from the third <a> tag\n",
    "        third_a_tag = all_a_tags[2]\n",
    "        text_inside_third_a = third_a_tag.text\n",
    "        print(text_inside_third_a)\n",
    "    else:\n",
    "        print(\"There are fewer than three <a> tags within the specified <li> element.\")\n",
    "else:\n",
    "    print(\"The <li> element with class 'num' was not found on the page.\")\n"
   ]
  },
  {
   "cell_type": "code",
   "execution_count": null,
   "metadata": {},
   "outputs": [],
   "source": [
    "#뷰티풀솝으로 필요한 부분 뽑아내기2\n",
    "import urllib.request\n",
    "import  bs4\n",
    "\n",
    "url = \"https://www.yes24.com/24/Category/BestSeller\"\n",
    "html = urllib.request.urlopen(url)\n",
    "\n",
    "bs_obj = bs4.BeautifulSoup(html, \"html.parser\")\n",
    "\n",
    "book_title = bs_obj.find(\"div\",{\"class\":\"viewDetail\"})\n",
    "book_first = book_title.find(\"a\")\n",
    "print(book_first.text)\n"
   ]
  },
  {
   "cell_type": "code",
   "execution_count": null,
   "metadata": {},
   "outputs": [],
   "source": [
    "import requests\n",
    "from bs4 \n",
    "\n",
    "url = \"https://www.yes24.com/24/Category/BestSeller\"\n",
    "html = urllib.request.urlopen(url)\n",
    "\n",
    "bs_obj = bs4.BeautifulSoup(html, \"html.parser\")\n",
    "\n",
    "ol = bs_obj.find(\"ol\", {\"class\"})\n",
    "print(ol)"
   ]
  },
  {
   "cell_type": "code",
   "execution_count": 1,
   "metadata": {},
   "outputs": [
    {
     "name": "stdout",
     "output_type": "stream",
     "text": [
      "1 번 도시와 그 불확실한 벽 \n",
      " 저자 : 무라카미 하루키\n",
      "2 번 퓨처 셀프 \n",
      " 저자 : 벤저민 하디\n",
      "3 번 푸바오, 매일매일 행복해 \n",
      " 저자 : 에버랜드 동물원\n",
      "4 번 세이노의 가르침 \n",
      " 저자 : 세이노(SayNo)\n",
      "5 번 디케의 눈물 \n",
      " 저자 : 조국\n",
      "6 번 1%를 읽는 힘 \n",
      " 저자 : 메르\n",
      "7 번 가짜 노동 \n",
      " 저자 : 데니스 뇌르마르크\n",
      "8 번 도둑맞은 집중력 \n",
      " 저자 : 요한 하리\n",
      "9 번 일론 머스크 \n",
      " 저자 : 월터 아이작슨\n",
      "10 번 모든 멋진 일에는 두려움이 따른다 \n",
      " 저자 : 이연\n",
      "11 번 최민준의 아들코칭 백과 \n",
      " 저자 : 최민준\n",
      "12 번 문과 남자의 과학 공부 \n",
      " 저자 : 유시민\n",
      "13 번 역행자 확장판 \n",
      " 저자 : 자청\n",
      "14 번 최소한의 한국사 \n",
      " 저자 : 최태성\n",
      "15 번 슈퍼노멀 \n",
      " 저자 : 주언규\n",
      "16 번 아홉 살에 시작하는 똑똑한 초등신문 \n",
      " 저자 : 신효원\n",
      "17 번 설민석의 한국사 대모험 26 \n",
      " 저자 : 설민석\n",
      "18 번 아주 희미한 빛으로도 \n",
      " 저자 : 최은영\n",
      "21 번 트렌드 코리아 2024  \n",
      " 저자 : 김난도\n",
      "22 번 흔한남매 14 \n",
      " 저자 : 흔한남매\n",
      "23 번 ETS 토익 정기시험 기출문제집 1000 Vol.3 READING 리딩  \n",
      " 저자 : ETS\n",
      "24 번 모든 삶은 흐른다 \n",
      " 저자 : 로랑스 드빌레르\n",
      "25 번 룬의 아이들 - 블러디드 6 \n",
      " 저자 : 전민희\n",
      "26 번 메리골드 마음 세탁소 \n",
      " 저자 : 윤정은\n",
      "27 번 ETS 토익 정기시험 기출문제집 1000 Vol.3 LISTENING 리스닝   \n",
      " 저자 : ETS\n",
      "28 번 딸이 조용히 무너져 있었다 \n",
      " 저자 : 김현아\n",
      "29 번 멘탈을 회복하는 연습 \n",
      " 저자 : 데이먼 자하리아데스\n",
      "30 번 원씽 THE ONE THING \n",
      " 저자 : 게리 켈러\n",
      "31 번 흔한남매 이상한 나라의 고전 읽기 4 \n",
      " 저자 : 최재훈\n",
      "32 번 한석준의 말하기 수업 \n",
      " 저자 : 한석준\n",
      "33 번 돈의 속성 300쇄 리커버 \n",
      " 저자 : 김승호\n",
      "34 번 참을 수 없는 존재의 가벼움 \n",
      " 저자 : 밀란 쿤데라\n",
      "35 번 푸른 사자 와니니 6 \n",
      " 저자 : 이현\n",
      "36 번 2023 큰별쌤 최태성의 별별한국사 한국사능력검정시험 심화(1,2,3급) 상 \n",
      " 저자 : 최태성\n",
      "37 번 달러 투자 무작정 따라하기 \n",
      " 저자 : 박성현\n",
      "38 번 슈뻘맨의 숨은 과학 찾기 2 \n",
      " 저자 : 슈뻘맨\n",
      "39 번 2023 큰별쌤 최태성의 별별한국사 한국사능력검정시험 심화(1,2,3급) 하 \n",
      " 저자 : 최태성\n",
      "40 번 당신의 인생이 왜 힘들지 않아야 한다고 생각하십니까 \n",
      " 저자 : 아르투어 쇼펜하우어\n"
     ]
    }
   ],
   "source": [
    "import urllib.request\n",
    "import  bs4\n",
    "\n",
    "url = \"https://www.yes24.com/24/Category/BestSeller\"\n",
    "html = urllib.request.urlopen(url)\n",
    "\n",
    "bs_obj = bs4.BeautifulSoup(html, \"html.parser\")\n",
    "\n",
    "for i in range(1,41):\n",
    "    class_name = \"num\" + str(i)\n",
    "    book_title = bs_obj.find(\"li\", {\"class\": class_name})\n",
    "    if book_title:\n",
    "        book_first = book_title.find_all(\"a\")\n",
    "        if len(book_first) > 2:\n",
    "            print(f\"{i} 번\",book_first[2].text,'\\n',f'저자 : {book_first[3].text}')\n",
    "\n",
    "# for i in range(1,41):\n",
    "#     class_name = \"num\" + str(i)\n",
    "#     book_title = bs_obj.find(\"li\", {\"class\": class_name})\n",
    "#     if book_title:\n",
    "#         book_first = book_title.find_all(\"a\")\n",
    "#         if len(book_first) > 2:\n",
    "#             print(f\"{i} 번\",book_first[3].text)"
   ]
  },
  {
   "cell_type": "code",
   "execution_count": null,
   "metadata": {},
   "outputs": [],
   "source": [
    "for i in range(1,41):\n",
    "    class_name = \"num\" + str(i)\n",
    "    book_title = bs_obj.find(\"li\", {\"class\": class_name})\n",
    "    if book_title:\n",
    "        book_first = book_title.find_all(\"a\")\n",
    "        if len(book_first) > 2:\n",
    "            print(book_first[2].text)\n"
   ]
  },
  {
   "cell_type": "code",
   "execution_count": 10,
   "metadata": {},
   "outputs": [
    {
     "ename": "AttributeError",
     "evalue": "'NoneType' object has no attribute 'find'",
     "output_type": "error",
     "traceback": [
      "\u001b[1;31m---------------------------------------------------------------------------\u001b[0m",
      "\u001b[1;31mAttributeError\u001b[0m                            Traceback (most recent call last)",
      "\u001b[1;32mc:\\Users\\gusdk\\OneDrive\\바탕 화면\\금오공대 1-2\\ai프로그래밍\\ai-programming\\웹크롤링\\web.ipynb 셀 15\u001b[0m line \u001b[0;36m8\n\u001b[0;32m      <a href='vscode-notebook-cell:/c%3A/Users/gusdk/OneDrive/%EB%B0%94%ED%83%95%20%ED%99%94%EB%A9%B4/%EA%B8%88%EC%98%A4%EA%B3%B5%EB%8C%80%201-2/ai%ED%94%84%EB%A1%9C%EA%B7%B8%EB%9E%98%EB%B0%8D/ai-programming/%EC%9B%B9%ED%81%AC%EB%A1%A4%EB%A7%81/web.ipynb#X20sZmlsZQ%3D%3D?line=5'>6</a>\u001b[0m bs_obj \u001b[39m=\u001b[39m bs4\u001b[39m.\u001b[39mBeautifulSoup(html, \u001b[39m\"\u001b[39m\u001b[39mhtml.parser\u001b[39m\u001b[39m\"\u001b[39m)\n\u001b[0;32m      <a href='vscode-notebook-cell:/c%3A/Users/gusdk/OneDrive/%EB%B0%94%ED%83%95%20%ED%99%94%EB%A9%B4/%EA%B8%88%EC%98%A4%EA%B3%B5%EB%8C%80%201-2/ai%ED%94%84%EB%A1%9C%EA%B7%B8%EB%9E%98%EB%B0%8D/ai-programming/%EC%9B%B9%ED%81%AC%EB%A1%A4%EB%A7%81/web.ipynb#X20sZmlsZQ%3D%3D?line=6'>7</a>\u001b[0m book_title \u001b[39m=\u001b[39m bs_obj\u001b[39m.\u001b[39mfind(\u001b[39m\"\u001b[39m\u001b[39mli\u001b[39m\u001b[39m\"\u001b[39m,{\u001b[39m\"\u001b[39m\u001b[39mclass\u001b[39m\u001b[39m\"\u001b[39m:\u001b[39m\"\u001b[39m\u001b[39mprod_item\u001b[39m\u001b[39m\"\u001b[39m})\n\u001b[1;32m----> <a href='vscode-notebook-cell:/c%3A/Users/gusdk/OneDrive/%EB%B0%94%ED%83%95%20%ED%99%94%EB%A9%B4/%EA%B8%88%EC%98%A4%EA%B3%B5%EB%8C%80%201-2/ai%ED%94%84%EB%A1%9C%EA%B7%B8%EB%9E%98%EB%B0%8D/ai-programming/%EC%9B%B9%ED%81%AC%EB%A1%A4%EB%A7%81/web.ipynb#X20sZmlsZQ%3D%3D?line=7'>8</a>\u001b[0m book_first \u001b[39m=\u001b[39m book_title\u001b[39m.\u001b[39;49mfind(\u001b[39m\"\u001b[39m\u001b[39mprod_name\u001b[39m\u001b[39m\"\u001b[39m)\n\u001b[0;32m      <a href='vscode-notebook-cell:/c%3A/Users/gusdk/OneDrive/%EB%B0%94%ED%83%95%20%ED%99%94%EB%A9%B4/%EA%B8%88%EC%98%A4%EA%B3%B5%EB%8C%80%201-2/ai%ED%94%84%EB%A1%9C%EA%B7%B8%EB%9E%98%EB%B0%8D/ai-programming/%EC%9B%B9%ED%81%AC%EB%A1%A4%EB%A7%81/web.ipynb#X20sZmlsZQ%3D%3D?line=8'>9</a>\u001b[0m \u001b[39mprint\u001b[39m(book_first[\u001b[39m3\u001b[39m]\u001b[39m.\u001b[39mtext)\n\u001b[0;32m     <a href='vscode-notebook-cell:/c%3A/Users/gusdk/OneDrive/%EB%B0%94%ED%83%95%20%ED%99%94%EB%A9%B4/%EA%B8%88%EC%98%A4%EA%B3%B5%EB%8C%80%201-2/ai%ED%94%84%EB%A1%9C%EA%B7%B8%EB%9E%98%EB%B0%8D/ai-programming/%EC%9B%B9%ED%81%AC%EB%A1%A4%EB%A7%81/web.ipynb#X20sZmlsZQ%3D%3D?line=10'>11</a>\u001b[0m \u001b[39mprint\u001b[39m(book_title)\n",
      "\u001b[1;31mAttributeError\u001b[0m: 'NoneType' object has no attribute 'find'"
     ]
    }
   ],
   "source": [
    "import urllib.request\n",
    "from bs4 import BeautifulSoup\n",
    "\n",
    "url = \"https://product.kyobobook.co.kr/bestseller/online?period=001#?page=1&per=20&ymw=&period=001&saleCmdtClstCode=&dsplDvsnCode=000&dsplTrgtDvsnCode=001&saleCmdtDsplDvsnCode=\"\n",
    "html = urllib.request.urlopen(url)\n",
    "bs_obj = bs4.BeautifulSoup(html, \"html.parser\")\n",
    "book_title = bs_obj.find(\"li\",{\"class\":\"prod_item\"})\n",
    "book_first = book_title.find(\"prod_name\")\n",
    "print(book_first[3].text)\n",
    "\n",
    "print(book_title)\n"
   ]
  },
  {
   "cell_type": "code",
   "execution_count": 20,
   "metadata": {},
   "outputs": [
    {
     "ename": "AttributeError",
     "evalue": "'NoneType' object has no attribute 'find'",
     "output_type": "error",
     "traceback": [
      "\u001b[1;31m---------------------------------------------------------------------------\u001b[0m",
      "\u001b[1;31mAttributeError\u001b[0m                            Traceback (most recent call last)",
      "\u001b[1;32mc:\\Users\\gusdk\\OneDrive\\바탕 화면\\금오공대 1-2\\ai프로그래밍\\ai-programming\\웹크롤링\\web.ipynb 셀 16\u001b[0m line \u001b[0;36m8\n\u001b[0;32m      <a href='vscode-notebook-cell:/c%3A/Users/gusdk/OneDrive/%EB%B0%94%ED%83%95%20%ED%99%94%EB%A9%B4/%EA%B8%88%EC%98%A4%EA%B3%B5%EB%8C%80%201-2/ai%ED%94%84%EB%A1%9C%EA%B7%B8%EB%9E%98%EB%B0%8D/ai-programming/%EC%9B%B9%ED%81%AC%EB%A1%A4%EB%A7%81/web.ipynb#X22sZmlsZQ%3D%3D?line=5'>6</a>\u001b[0m soup\u001b[39m=\u001b[39m bs4\u001b[39m.\u001b[39mBeautifulSoup(html, \u001b[39m\"\u001b[39m\u001b[39mhtml.parser\u001b[39m\u001b[39m\"\u001b[39m)\n\u001b[0;32m      <a href='vscode-notebook-cell:/c%3A/Users/gusdk/OneDrive/%EB%B0%94%ED%83%95%20%ED%99%94%EB%A9%B4/%EA%B8%88%EC%98%A4%EA%B3%B5%EB%8C%80%201-2/ai%ED%94%84%EB%A1%9C%EA%B7%B8%EB%9E%98%EB%B0%8D/ai-programming/%EC%9B%B9%ED%81%AC%EB%A1%A4%EB%A7%81/web.ipynb#X22sZmlsZQ%3D%3D?line=6'>7</a>\u001b[0m book_title \u001b[39m=\u001b[39m soup\u001b[39m.\u001b[39mfind(\u001b[39m\"\u001b[39m\u001b[39mdiv\u001b[39m\u001b[39m\"\u001b[39m,{\u001b[39m\"\u001b[39m\u001b[39mclass\u001b[39m\u001b[39m\"\u001b[39m:\u001b[39m\"\u001b[39m\u001b[39mss_book_box\u001b[39m\u001b[39m\"\u001b[39m})\n\u001b[1;32m----> <a href='vscode-notebook-cell:/c%3A/Users/gusdk/OneDrive/%EB%B0%94%ED%83%95%20%ED%99%94%EB%A9%B4/%EA%B8%88%EC%98%A4%EA%B3%B5%EB%8C%80%201-2/ai%ED%94%84%EB%A1%9C%EA%B7%B8%EB%9E%98%EB%B0%8D/ai-programming/%EC%9B%B9%ED%81%AC%EB%A1%A4%EB%A7%81/web.ipynb#X22sZmlsZQ%3D%3D?line=7'>8</a>\u001b[0m book_first \u001b[39m=\u001b[39m book_title\u001b[39m.\u001b[39;49mfind(\u001b[39m\"\u001b[39m\u001b[39m.bo3\u001b[39m\u001b[39m\"\u001b[39m)\n\u001b[0;32m      <a href='vscode-notebook-cell:/c%3A/Users/gusdk/OneDrive/%EB%B0%94%ED%83%95%20%ED%99%94%EB%A9%B4/%EA%B8%88%EC%98%A4%EA%B3%B5%EB%8C%80%201-2/ai%ED%94%84%EB%A1%9C%EA%B7%B8%EB%9E%98%EB%B0%8D/ai-programming/%EC%9B%B9%ED%81%AC%EB%A1%A4%EB%A7%81/web.ipynb#X22sZmlsZQ%3D%3D?line=8'>9</a>\u001b[0m \u001b[39mprint\u001b[39m(book_first)\n",
      "\u001b[1;31mAttributeError\u001b[0m: 'NoneType' object has no attribute 'find'"
     ]
    }
   ],
   "source": [
    "import urllib.request\n",
    "from bs4 import BeautifulSoup\n",
    "\n",
    "url = \"https://product.kyobobook.co.kr/bestseller/online?period=001#?page=1&per=20&ymw=&period=001&saleCmdtClstCode=&dsplDvsnCode=000&dsplTrgtDvsnCode=001&saleCmdtDsplDvsnCode=\"\n",
    "html = urllib.request.urlopen(url)\n",
    "soup= bs4.BeautifulSoup(html, \"html.parser\")\n",
    "book_title = soup.find(\"div\",{\"class\":\"ss_book_box\"})\n",
    "book_first = book_title.find(\".bo3\")\n",
    "print(book_first)"
   ]
  },
  {
   "cell_type": "code",
   "execution_count": 23,
   "metadata": {},
   "outputs": [],
   "source": [
    "import urllib.request\n",
    "from bs4 import BeautifulSoup\n",
    "\n",
    "url = \"https://product.kyobobook.co.kr/bestseller/online?period=001#?page=1&per=20&ymw=&period=001&saleCmdtClstCode=&dsplDvsnCode=000&dsplTrgtDvsnCode=001&saleCmdtDsplDvsnCode=\"\n",
    "html = urllib.request.urlopen(url)\n",
    "soup = BeautifulSoup(html, \"html.parser\")\n",
    "\n",
    "# To find all book titles within the specified div and class\n",
    "book_titles = soup.find_all(\"div\", class_=\"ss_book_box\")\n",
    "\n",
    "# Loop through each book title and print it\n",
    "for book_title in book_titles:\n",
    "    title = book_title.find(\"strong\", class_=\"bo3\")\n",
    "    if title:\n",
    "        print(title.text.strip())\n"
   ]
  },
  {
   "cell_type": "code",
   "execution_count": 40,
   "metadata": {},
   "outputs": [
    {
     "name": "stdout",
     "output_type": "stream",
     "text": [
      "[]\n"
     ]
    }
   ],
   "source": [
    "\n",
    "\n",
    "\n",
    "import requests\n",
    "from bs4 import BeautifulSoup\n",
    "\n",
    "url = \"https://product.kyobobook.co.kr/bestseller/online?period=001#?page=1&per=20&ymw=&period=001&saleCmdtClstCode=&dsplDvsnCode=000&dsplTrgtDvsnCode=001&saleCmdtDsplDvsnCode=\"\n",
    "headers = {\"User-Agent\": \"Mozilla/5.0 (Windows NT 6.3; WOW64) AppleWebKit/537.36 (KHTML, like Gecko) Chrome/44.0.2403.157 Safari/537.36\"}\n",
    "\n",
    "res = requests.get(url, headers=headers)\n",
    "soup = BeautifulSoup(res.content, 'html.parser')\n",
    "newslist = soup.select(\".prod_item\")\n",
    "\n",
    "print(newslist)"
   ]
  },
  {
   "cell_type": "code",
   "execution_count": 30,
   "metadata": {},
   "outputs": [
    {
     "name": "stdout",
     "output_type": "stream",
     "text": [
      "Collecting bs4\n",
      "  Downloading bs4-0.0.1.tar.gz (1.1 kB)\n",
      "  Preparing metadata (setup.py): started\n",
      "  Preparing metadata (setup.py): finished with status 'done'\n",
      "Requirement already satisfied: beautifulsoup4 in c:\\users\\gusdk\\anaconda3\\envs\\cr\\lib\\site-packages (from bs4) (4.12.2)\n",
      "Requirement already satisfied: soupsieve>1.2 in c:\\users\\gusdk\\anaconda3\\envs\\cr\\lib\\site-packages (from beautifulsoup4->bs4) (2.4)\n",
      "Building wheels for collected packages: bs4\n",
      "  Building wheel for bs4 (setup.py): started\n",
      "  Building wheel for bs4 (setup.py): finished with status 'done'\n",
      "  Created wheel for bs4: filename=bs4-0.0.1-py3-none-any.whl size=1264 sha256=b37cfb2bb549e8334b4e5d61a34ea1db715557c80df596d23bdb42fe7252a0cc\n",
      "  Stored in directory: c:\\users\\gusdk\\appdata\\local\\pip\\cache\\wheels\\25\\42\\45\\b773edc52acb16cd2db4cf1a0b47117e2f69bb4eb300ed0e70\n",
      "Successfully built bs4\n",
      "Installing collected packages: bs4\n",
      "Successfully installed bs4-0.0.1\n"
     ]
    }
   ],
   "source": [
    "! pip install bs4"
   ]
  }
 ],
 "metadata": {
  "kernelspec": {
   "display_name": "cr",
   "language": "python",
   "name": "python3"
  },
  "language_info": {
   "codemirror_mode": {
    "name": "ipython",
    "version": 3
   },
   "file_extension": ".py",
   "mimetype": "text/x-python",
   "name": "python",
   "nbconvert_exporter": "python",
   "pygments_lexer": "ipython3",
   "version": "3.10.12"
  },
  "orig_nbformat": 4
 },
 "nbformat": 4,
 "nbformat_minor": 2
}
